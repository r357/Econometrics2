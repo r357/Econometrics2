{
  "nbformat": 4,
  "nbformat_minor": 0,
  "metadata": {
    "colab": {
      "name": "Autocorrelation Simulation.ipynb",
      "version": "0.3.2",
      "provenance": [],
      "collapsed_sections": [],
      "include_colab_link": true
    },
    "kernelspec": {
      "name": "python3",
      "display_name": "Python 3"
    }
  },
  "cells": [
    {
      "cell_type": "markdown",
      "metadata": {
        "id": "view-in-github",
        "colab_type": "text"
      },
      "source": [
        "<a href=\"https://colab.research.google.com/github/r357/Econometrics2/blob/master/Autocorrelation_Simulation.ipynb\" target=\"_parent\"><img src=\"https://colab.research.google.com/assets/colab-badge.svg\" alt=\"Open In Colab\"/></a>"
      ]
    },
    {
      "metadata": {
        "id": "gUAR-KHfOavf",
        "colab_type": "text"
      },
      "cell_type": "markdown",
      "source": [
        "# Autocorrelation Simulation Experiment\n",
        "## Econometrics 2\n",
        "### Alen Rožac, 19121848 (alenrozac@gmail.com)\n",
        "\n"
      ]
    },
    {
      "metadata": {
        "id": "hTj5Ed272IBb",
        "colab_type": "code",
        "colab": {}
      },
      "cell_type": "code",
      "source": [
        "import numpy as np\n",
        "import matplotlib.pyplot as plt"
      ],
      "execution_count": 0,
      "outputs": []
    },
    {
      "metadata": {
        "id": "DPZgOei58C-n",
        "colab_type": "text"
      },
      "cell_type": "markdown",
      "source": [
        "**Static regression** - data generating process (DGP):\n",
        "$$ y_t = \\alpha + \\beta x_t + u_t $$\n",
        "\n",
        "Compare the case where $u_t$ is white noise and the case where:\n",
        "$$ u_t = \\rho u_{t-1} + v_t $$\n",
        "\n",
        "Parameters of DGP: \n",
        "$\\alpha=1, \\beta=1, \\rho= 0.5$\n",
        "***\n",
        "**AR(1) model** - DGP\n",
        "$$ y_t = \\beta y_{t-1} + u_t $$\n",
        "\n",
        "Parameters of DGP: $\\beta=0.5, \\rho=0.5$"
      ]
    },
    {
      "metadata": {
        "id": "vb9LSPwcS32u",
        "colab_type": "code",
        "colab": {}
      },
      "cell_type": "code",
      "source": [
        "# Generate noise\n",
        "def noise(T=1000, mean=0, std=0.5):\n",
        "    return (np.random.normal(loc=mean, scale=std, size=T))\n",
        "\n",
        "\n",
        "# Generate random from normal distribution\n",
        "def normal(T=1000, mean=1, std=2):\n",
        "    return (np.random.normal(loc=mean, scale=std, size=T))\n",
        "\n",
        "\n",
        "# Calculate slope (b)\n",
        "from scipy.stats import linregress    \n",
        "def slope(y, x):\n",
        "    slope, intercept,_,_,_ = linregress(x, y)\n",
        "    return(slope)\n",
        "\n",
        "\n",
        "# Calculate no constant slope(b)\n",
        "import statsmodels.api as sm\n",
        "def slope2(y, x):\n",
        "    result = sm.OLS(y, x).fit()\n",
        "    return(float(result.params))"
      ],
      "execution_count": 0,
      "outputs": []
    },
    {
      "metadata": {
        "id": "C8l5l0Cejb37",
        "colab_type": "code",
        "colab": {}
      },
      "cell_type": "code",
      "source": [
        "# Functions to return regression variables. DGP returns y and x (or y_t-1 in ac case)\n",
        "\n",
        "# Static DGP - White Noise\n",
        "def StaticDGP_wn(alpha=1, beta=1):\n",
        "    x = normal()\n",
        "    u_wn = noise()\n",
        "    y_wn = alpha + beta*x + u_wn\n",
        "    return(y_wn, x)\n",
        "\n",
        "\n",
        "# Static DGP - Residual Autocorrelation\n",
        "def StaticDGP_ac(alpha=1, beta=1, rho=0.5, T=1000):\n",
        "    x = normal()\n",
        "    ut_ac = np.zeros(T)\n",
        "    for t in range(1,T):\n",
        "        ut_ac[t] = rho * ut_ac[t-1] + noise(1) \n",
        "    y_ac = alpha + beta*x + ut_ac\n",
        "    return(y_ac, x)\n",
        "\n",
        "\n",
        "# Dynamic DGP - White Noise\n",
        "def DynamicDGP_wn(beta=0.5, T=1000):\n",
        "    yt_wn = np.ones(T)\n",
        "    for t in range(1,T):\n",
        "        yt_wn[t] = beta * yt_wn[t-1] + noise(1)\n",
        "    return(yt_wn, np.roll(yt_wn, -1))\n",
        "\n",
        "\n",
        "# Dynamic DGP - Residual Autocorrelation\n",
        "def DynamicDGP_ac(beta=0.5, rho=0.5, T=1000):\n",
        "    ut_ac, yt_ac = np.zeros(T), np.ones(T)\n",
        "    for t in range(1,T):\n",
        "        ut_ac[t] = rho * ut_ac[t-1] + noise(1)\n",
        "        yt_ac[t] = beta * yt_ac[-1] + ut_ac[t]\n",
        "    return(yt_ac, np.roll(yt_ac, -1))\n",
        "    "
      ],
      "execution_count": 0,
      "outputs": []
    },
    {
      "metadata": {
        "id": "dQAEv3jluO7d",
        "colab_type": "text"
      },
      "cell_type": "markdown",
      "source": [
        "## Simulation 1: Static Regression"
      ]
    },
    {
      "metadata": {
        "id": "ptQOBy3ng_IU",
        "colab_type": "code",
        "outputId": "5563e74d-6ab3-4b36-b56d-a91bd7071b5f",
        "colab": {
          "base_uri": "https://localhost:8080/",
          "height": 362
        }
      },
      "cell_type": "code",
      "source": [
        "simulations = 5000\n",
        "b_wn, b_ac = [],[]\n",
        "\n",
        "for n in range(simulations):\n",
        "    y_wn, x_wn = StaticDGP_wn()\n",
        "    y_ac, x_ac = StaticDGP_ac()\n",
        "    b_wn.append(slope(y_wn, x_wn))\n",
        "    b_ac.append(slope(y_ac, x_ac))\n",
        "    \n",
        "# Plot Histograms    \n",
        "plt.hist(b_wn, bins=40, alpha=0.5, color=\"b\", label=\"White noise\")\n",
        "plt.hist(b_ac, bins=40, alpha=0.5, color=\"r\", label=\"Resid. Autocorr.\")\n",
        "plt.title(\"Static Regression - True beta=1\")\n",
        "plt.legend();"
      ],
      "execution_count": 0,
      "outputs": [
        {
          "output_type": "display_data",
          "data": {
            "image/png": "[encoded data removed]",
            "text/plain": [
              "<Figure size 576x396 with 1 Axes>"
            ]
          },
          "metadata": {
            "tags": []
          }
        }
      ]
    },
    {
      "metadata": {
        "id": "wRi8YXxguj8F",
        "colab_type": "text"
      },
      "cell_type": "markdown",
      "source": [
        "## Simulation 2: AR(1) Model"
      ]
    },
    {
      "metadata": {
        "id": "BQeYD4N5hjrK",
        "colab_type": "code",
        "outputId": "5c1946d4-4375-4e83-a8f9-717cd5ad131b",
        "colab": {
          "base_uri": "https://localhost:8080/",
          "height": 362
        }
      },
      "cell_type": "code",
      "source": [
        "simulations = 5000\n",
        "bar_wn, bar_ac = [],[]\n",
        "\n",
        "for n in range(simulations):\n",
        "    yt_wn, yt1_wn = DynamicDGP_wn()\n",
        "    yt_ac, yt1_ac = DynamicDGP_ac()\n",
        "    bar_wn.append(slope2(yt_wn, yt1_wn))\n",
        "    bar_ac.append(slope2(yt_ac, yt1_ac))\n",
        "    \n",
        "# Plot Histograms:\n",
        "plt.hist(bar_wn, bins=30, alpha=0.5, color=\"b\", label=\"White noise\")\n",
        "plt.hist(bar_ac, bins=30, alpha=0.5, color=\"r\", label=\"Resid. Autocorr.\")\n",
        "plt.title(\"AR(1) Model - True beta=0.5\")\n",
        "plt.legend();"
      ],
      "execution_count": 0,
      "outputs": [
        {
          "output_type": "display_data",
          "data": {
            "image/png": "[encoded data removed]",
            "text/plain": [
              "<Figure size 576x396 with 1 Axes>"
            ]
          },
          "metadata": {
            "tags": []
          }
        }
      ]
    }
  ]
}